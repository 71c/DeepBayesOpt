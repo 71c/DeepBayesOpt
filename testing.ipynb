{
 "cells": [
  {
   "cell_type": "code",
   "execution_count": 1,
   "id": "0921fae7",
   "metadata": {},
   "outputs": [
    {
     "ename": "RuntimeError",
     "evalue": "module compiled against API version 0xf but this version of numpy is 0xe",
     "output_type": "error",
     "traceback": [
      "\u001b[0;31m---------------------------------------------------------------------------\u001b[0m",
      "\u001b[0;31mRuntimeError\u001b[0m                              Traceback (most recent call last)",
      "\u001b[0;31mRuntimeError\u001b[0m: module compiled against API version 0xf but this version of numpy is 0xe"
     ]
    },
    {
     "name": "stdout",
     "output_type": "stream",
     "text": [
      "INIT SUBCLASS, cls=<class 'acquisition_function_net.AcquisitionFunctionNetFixedDimension'>, super()=<super: <class 'AcquisitionFunctionNet'>, <AcquisitionFunctionNetFixedDimension object>>\n",
      "INIT SUBCLASS, cls=<class 'acquisition_function_net.GittinsAcquisitionFunctionNet'>, super()=<super: <class 'AcquisitionFunctionNet'>, <GittinsAcquisitionFunctionNet object>>\n",
      "INIT SUBCLASS, cls=<class 'acquisition_function_net.AcquisitionFunctionNetWithSoftmaxAndExponentiate'>, super()=<super: <class 'AcquisitionFunctionNet'>, <AcquisitionFunctionNetWithSoftmaxAndExponentiate object>>\n",
      "INIT SUBCLASS, cls=<class 'acquisition_function_net.AcquisitionFunctionNetWithFinalMLP'>, super()=<super: <class 'AcquisitionFunctionNet'>, <AcquisitionFunctionNetWithFinalMLP object>>\n",
      "INIT SUBCLASS, cls=<class 'acquisition_function_net.AcquisitionFunctionNetV1and2'>, super()=<super: <class 'AcquisitionFunctionNet'>, <AcquisitionFunctionNetV1and2 object>>\n",
      "INIT SUBCLASS, cls=<class 'acquisition_function_net.AcquisitionFunctionNetV3'>, super()=<super: <class 'AcquisitionFunctionNet'>, <AcquisitionFunctionNetV3 object>>\n",
      "INIT SUBCLASS, cls=<class 'acquisition_function_net.AcquisitionFunctionNetV4'>, super()=<super: <class 'AcquisitionFunctionNet'>, <AcquisitionFunctionNetV4 object>>\n",
      "INIT SUBCLASS, cls=<class 'acquisition_function_net.AcquisitionFunctionNetDense'>, super()=<super: <class 'AcquisitionFunctionNet'>, <AcquisitionFunctionNetDense object>>\n"
     ]
    }
   ],
   "source": [
    "from acquisition_function_net import *"
   ]
  },
  {
   "cell_type": "code",
   "execution_count": 2,
   "id": "f4614972",
   "metadata": {},
   "outputs": [
    {
     "data": {
      "text/plain": [
       "{'AcquisitionFunctionNetFixedDimension': acquisition_function_net.AcquisitionFunctionNetFixedDimension,\n",
       " 'GittinsAcquisitionFunctionNet': acquisition_function_net.GittinsAcquisitionFunctionNet,\n",
       " 'AcquisitionFunctionNetWithSoftmaxAndExponentiate': acquisition_function_net.AcquisitionFunctionNetWithSoftmaxAndExponentiate,\n",
       " 'AcquisitionFunctionNetWithFinalMLP': acquisition_function_net.AcquisitionFunctionNetWithFinalMLP,\n",
       " 'AcquisitionFunctionNetV1and2': acquisition_function_net.AcquisitionFunctionNetV1and2,\n",
       " 'AcquisitionFunctionNetV3': acquisition_function_net.AcquisitionFunctionNetV3,\n",
       " 'AcquisitionFunctionNetV4': acquisition_function_net.AcquisitionFunctionNetV4,\n",
       " 'AcquisitionFunctionNetDense': acquisition_function_net.AcquisitionFunctionNetDense}"
      ]
     },
     "execution_count": 2,
     "metadata": {},
     "output_type": "execute_result"
    }
   ],
   "source": [
    "CLASSES"
   ]
  },
  {
   "cell_type": "code",
   "execution_count": 3,
   "id": "a8fdde8d",
   "metadata": {},
   "outputs": [],
   "source": [
    "n = GittinsAcquisitionFunctionNet(dimension=5, acquisition_function_class=AcquisitionFunctionNetV1and2,\n",
    "                                 variable_lambda=True, costs_in_history=True, cost_is_input=True,\n",
    "                                 pooling=\"max\")"
   ]
  },
  {
   "cell_type": "code",
   "execution_count": 4,
   "id": "a6e226ec",
   "metadata": {},
   "outputs": [
    {
     "data": {
      "text/plain": [
       "{'class_name': 'GittinsAcquisitionFunctionNet',\n",
       " 'kwargs': {'dimension': 5,\n",
       "  'acquisition_function_class': 'AcquisitionFunctionNetV1and2',\n",
       "  'variable_lambda': True,\n",
       "  'costs_in_history': True,\n",
       "  'cost_is_input': True,\n",
       "  'assume_y_independent_cost': False,\n",
       "  'pooling': 'max'}}"
      ]
     },
     "execution_count": 4,
     "metadata": {},
     "output_type": "execute_result"
    }
   ],
   "source": [
    "n.get_info_dict()"
   ]
  },
  {
   "cell_type": "code",
   "execution_count": 5,
   "id": "945dbce1",
   "metadata": {},
   "outputs": [],
   "source": [
    "n.save_init(\"fold\")"
   ]
  },
  {
   "cell_type": "code",
   "execution_count": 6,
   "id": "2954bfac",
   "metadata": {},
   "outputs": [
    {
     "data": {
      "text/plain": [
       "GittinsAcquisitionFunctionNet(\n",
       "  (base_model): AcquisitionFunctionNetV1and2(\n",
       "    (pointnet): PointNetLayer(\n",
       "      (network): Dense(\n",
       "        (0): Linear(in_features=15, out_features=256, bias=True)\n",
       "        (1): ReLU()\n",
       "        (2): Linear(in_features=256, out_features=256, bias=True)\n",
       "        (3): ReLU()\n",
       "        (4): Linear(in_features=256, out_features=1024, bias=True)\n",
       "        (5): ReLU()\n",
       "      )\n",
       "    )\n",
       "    (dense): Dense(\n",
       "      (0): Linear(in_features=1024, out_features=256, bias=True)\n",
       "      (1): ReLU()\n",
       "      (2): Linear(in_features=256, out_features=64, bias=True)\n",
       "      (3): ReLU()\n",
       "      (4): Linear(in_features=64, out_features=1, bias=True)\n",
       "    )\n",
       "    (transform): SoftmaxOrSoftplusLayer(\n",
       "      (softplus): Softplus(beta=1.0, threshold=20)\n",
       "    )\n",
       "  )\n",
       ")"
      ]
     },
     "execution_count": 6,
     "metadata": {},
     "output_type": "execute_result"
    }
   ],
   "source": [
    "AcquisitionFunctionNet.load_init(\"fold\")"
   ]
  },
  {
   "cell_type": "code",
   "execution_count": 7,
   "id": "f3f613f8",
   "metadata": {},
   "outputs": [],
   "source": [
    "class _Dummy(nn.Module):\n",
    "    def __init__(self, the_module):\n",
    "        super().__init__()\n",
    "        self.the_module = the_module\n",
    "        self.register_forward_pre_hook(self._my_pre_forward_hook)\n",
    "    \n",
    "    @staticmethod\n",
    "    def _my_pre_forward_hook(module, inputs):\n",
    "        # do something\n",
    "        return inputs_modified\n",
    "    \n",
    "    def forward(self, a, b, **kwargs):\n",
    "        return self.the_module(a, b, **kwargs)\n",
    "\n",
    "class MyModule(nn.Module):\n",
    "    def __init__(self, *args, **kwargs):\n",
    "        super().__init__()\n",
    "        self._dummy = _Dummy()\n",
    "\n",
    "    def forward(self, a, b=3, **kwargs):\n",
    "        return self._dummy(a, b, **kwargs)"
   ]
  },
  {
   "cell_type": "code",
   "execution_count": null,
   "id": "b309f814",
   "metadata": {},
   "outputs": [],
   "source": []
  }
 ],
 "metadata": {
  "kernelspec": {
   "display_name": "Python 3 (ipykernel)",
   "language": "python",
   "name": "python3"
  },
  "language_info": {
   "codemirror_mode": {
    "name": "ipython",
    "version": 3
   },
   "file_extension": ".py",
   "mimetype": "text/x-python",
   "name": "python",
   "nbconvert_exporter": "python",
   "pygments_lexer": "ipython3",
   "version": "3.9.12"
  }
 },
 "nbformat": 4,
 "nbformat_minor": 5
}

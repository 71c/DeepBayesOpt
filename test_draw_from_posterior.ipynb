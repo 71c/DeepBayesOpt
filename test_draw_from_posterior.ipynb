{
 "cells": [
  {
   "cell_type": "code",
   "execution_count": 23,
   "id": "6a5ab017",
   "metadata": {},
   "outputs": [],
   "source": [
    "import torch\n",
    "from botorch.fit import fit_gpytorch_mll\n",
    "from gpytorch.mlls import ExactMarginalLogLikelihood\n",
    "from botorch.models.gp_regression import SingleTaskGP\n",
    "import gpytorch\n",
    "from gpytorch.kernels import MaternKernel, ScaleKernel, RBFKernel\n",
    "\n",
    "device = torch.device(\"cuda\" if torch.cuda.is_available() else \"cpu\")\n",
    "dtype = torch.double # double == float64\n",
    "\n",
    "# isn't this easier?\n",
    "# https://github.com/pytorch/botorch/discussions/1444\n",
    "torch.set_default_dtype(dtype)\n",
    "\n",
    "# torch.set_default_device(device) # similarly\n",
    "\n",
    "import numpy as np\n",
    "import matplotlib.pyplot as plt\n",
    "import math"
   ]
  },
  {
   "cell_type": "code",
   "execution_count": 27,
   "id": "31dc5def",
   "metadata": {},
   "outputs": [
    {
     "name": "stderr",
     "output_type": "stream",
     "text": [
      "/Users/aloja/opt/anaconda3/lib/python3.9/site-packages/botorch/models/utils/assorted.py:202: InputDataWarning: Input data is not standardized (mean = tensor([0.0184]), std = tensor([0.7395])). Please consider scaling the input to zero mean and unit variance.\n",
      "  warnings.warn(msg, InputDataWarning)\n"
     ]
    },
    {
     "name": "stdout",
     "output_type": "stream",
     "text": [
      "Iter 1/300 - Loss: 0.936   lengthscale: 0.693   outputscale: 0.693   constant: 0.000   noise: 0.693\n",
      "Iter 11/300 - Loss: 0.508   lengthscale: 0.315   outputscale: 1.307   constant: 0.112   noise: 0.310\n",
      "Iter 21/300 - Loss: 0.178   lengthscale: 0.217   outputscale: 1.445   constant: 0.078   noise: 0.122\n",
      "Iter 31/300 - Loss: -0.024   lengthscale: 0.276   outputscale: 1.013   constant: 0.085   noise: 0.050\n",
      "Iter 41/300 - Loss: -0.010   lengthscale: 0.314   outputscale: 0.884   constant: 0.113   noise: 0.032\n",
      "Iter 51/300 - Loss: -0.027   lengthscale: 0.286   outputscale: 1.076   constant: 0.107   noise: 0.037\n",
      "Iter 61/300 - Loss: -0.031   lengthscale: 0.314   outputscale: 1.113   constant: 0.105   noise: 0.045\n",
      "Iter 71/300 - Loss: -0.031   lengthscale: 0.305   outputscale: 1.207   constant: 0.102   noise: 0.045\n",
      "Iter 81/300 - Loss: -0.032   lengthscale: 0.314   outputscale: 1.223   constant: 0.107   noise: 0.041\n",
      "Iter 91/300 - Loss: -0.032   lengthscale: 0.313   outputscale: 1.261   constant: 0.107   noise: 0.041\n",
      "Iter 101/300 - Loss: -0.032   lengthscale: 0.315   outputscale: 1.281   constant: 0.108   noise: 0.042\n",
      "Iter 111/300 - Loss: -0.032   lengthscale: 0.315   outputscale: 1.294   constant: 0.108   noise: 0.042\n",
      "Iter 121/300 - Loss: -0.032   lengthscale: 0.316   outputscale: 1.295   constant: 0.109   noise: 0.042\n",
      "Iter 131/300 - Loss: -0.032   lengthscale: 0.315   outputscale: 1.298   constant: 0.109   noise: 0.042\n",
      "Iter 141/300 - Loss: -0.032   lengthscale: 0.316   outputscale: 1.297   constant: 0.109   noise: 0.042\n",
      "Iter 151/300 - Loss: -0.032   lengthscale: 0.315   outputscale: 1.297   constant: 0.109   noise: 0.042\n",
      "Iter 161/300 - Loss: -0.032   lengthscale: 0.316   outputscale: 1.296   constant: 0.109   noise: 0.042\n",
      "Iter 171/300 - Loss: -0.032   lengthscale: 0.315   outputscale: 1.295   constant: 0.109   noise: 0.042\n",
      "Iter 181/300 - Loss: -0.032   lengthscale: 0.315   outputscale: 1.295   constant: 0.109   noise: 0.042\n",
      "Iter 191/300 - Loss: -0.032   lengthscale: 0.315   outputscale: 1.295   constant: 0.109   noise: 0.042\n",
      "Iter 201/300 - Loss: -0.032   lengthscale: 0.315   outputscale: 1.295   constant: 0.109   noise: 0.042\n",
      "Iter 211/300 - Loss: -0.032   lengthscale: 0.315   outputscale: 1.295   constant: 0.109   noise: 0.042\n",
      "Iter 221/300 - Loss: -0.032   lengthscale: 0.315   outputscale: 1.295   constant: 0.109   noise: 0.042\n",
      "Iter 231/300 - Loss: -0.032   lengthscale: 0.315   outputscale: 1.295   constant: 0.109   noise: 0.042\n",
      "Iter 241/300 - Loss: -0.032   lengthscale: 0.315   outputscale: 1.295   constant: 0.109   noise: 0.042\n",
      "Iter 251/300 - Loss: -0.032   lengthscale: 0.315   outputscale: 1.295   constant: 0.109   noise: 0.042\n",
      "Iter 261/300 - Loss: -0.032   lengthscale: 0.315   outputscale: 1.295   constant: 0.109   noise: 0.042\n",
      "Iter 271/300 - Loss: -0.032   lengthscale: 0.315   outputscale: 1.295   constant: 0.109   noise: 0.042\n",
      "Iter 281/300 - Loss: -0.032   lengthscale: 0.315   outputscale: 1.295   constant: 0.109   noise: 0.042\n",
      "Iter 291/300 - Loss: -0.032   lengthscale: 0.315   outputscale: 1.295   constant: 0.109   noise: 0.042\n"
     ]
    }
   ],
   "source": [
    "\n",
    "# Based on https://docs.gpytorch.ai/en/stable/examples/02_Scalable_Exact_GPs/Exact_GP_Posterior_Sampling_with_CIQ.html\n",
    "\n",
    "# Training data is 11 points in [0,1] inclusive regularly spaced\n",
    "train_x = torch.linspace(0, 1., 100).unsqueeze(1)\n",
    "# True function is sin(2*pi*x)\n",
    "train_y = torch.sin(train_x * (2 * math.pi))  + torch.randn(train_x.size()) * 0.2\n",
    "\n",
    "kernel = ScaleKernel(\n",
    "    base_kernel=RBFKernel(\n",
    "        ard_num_dims=1,\n",
    "        # lengthscale_prior=GammaPrior(3.0, 6.0) # This is the default\n",
    "    ),\n",
    "#     outputscale_prior=GammaPrior(2.0, 0.15) # This is the default\n",
    ")\n",
    "\n",
    "likelihood = gpytorch.likelihoods.GaussianLikelihood()\n",
    "model = SingleTaskGP(train_x, train_y, likelihood=likelihood, covar_module=kernel)\n",
    "mll = ExactMarginalLogLikelihood(model.likelihood, model)\n",
    "\n",
    "# Find optimal model hyperparameters\n",
    "model.train()\n",
    "# model.likelihood.train()\n",
    "\n",
    "# Use the adam optimizer\n",
    "optimizer = torch.optim.Adam(model.parameters(), lr=0.1)\n",
    "\n",
    "# \"Loss\" for GPs - the marginal log likelihood\n",
    "mll = gpytorch.mlls.ExactMarginalLogLikelihood(model.likelihood, model)\n",
    "\n",
    "training_iter = 300\n",
    "for i in range(training_iter):\n",
    "    # Zero gradients from previous iteration\n",
    "    optimizer.zero_grad()\n",
    "    # Output from model\n",
    "    output = model(train_x)\n",
    "    # Calc loss and backprop gradients\n",
    "    loss = -mll(output, model.train_targets)\n",
    "    loss.backward()\n",
    "    if i % 10 == 0:\n",
    "        print('Iter %d/%d - Loss: %.3f   lengthscale: %.3f   outputscale: %.3f   constant: %.3f   noise: %.3f' % (\n",
    "            i + 1, training_iter, loss.item(),\n",
    "            model.covar_module.base_kernel.lengthscale.item(),\n",
    "            model.covar_module.outputscale.item(),\n",
    "            model.mean_module.constant.item(),\n",
    "            model.likelihood.noise.item()\n",
    "        ))\n",
    "    optimizer.step()"
   ]
  },
  {
   "cell_type": "code",
   "execution_count": 33,
   "id": "f95bb92a",
   "metadata": {},
   "outputs": [
    {
     "name": "stdout",
     "output_type": "stream",
     "text": [
      "CPU times: user 56.9 ms, sys: 5.42 ms, total: 62.3 ms\n",
      "Wall time: 193 ms\n"
     ]
    }
   ],
   "source": [
    "test_n = 1000\n",
    "\n",
    "test_x = torch.linspace(-1, 2, test_n)\n",
    "if torch.cuda.is_available():\n",
    "    test_x = test_x.cuda()\n",
    "\n",
    "\n",
    "import time\n",
    "\n",
    "## huh?\n",
    "# model.train()\n",
    "# model.likelihood.train()\n",
    "\n",
    "# Get into evaluation (predictive posterior) mode\n",
    "model.eval()\n",
    "model.likelihood.eval()\n",
    "\n",
    "# Test points are regularly spaced along [0,1]\n",
    "# Make predictions by feeding model through model.likelihood\n",
    "\n",
    "test_x.requires_grad_(True)\n",
    "\n",
    "with torch.no_grad():\n",
    "    ## GPyTorch way to get posterior:\n",
    "    # observed_pred = model.likelihood(model(test_x)) # type gpytorch.distributions.MultivariateNormal\n",
    "    # observed_pred = model(test_x)\n",
    "\n",
    "    ## BoTorch way to get posterior:\n",
    "    with gpytorch.settings.prior_mode(True):\n",
    "        observed_pred = model.posterior(test_x, observation_noise=True) # type botorch.posteriors.gpytorch.GPyTorchPosterior\n",
    "\n",
    "    ## Get prior\n",
    "    ## https://github.com/pytorch/botorch/blob/741eec37fdf8810c08f9d764a4f44aed1a7326c7/botorch/models/gpytorch.py#L390\n",
    "    # observed_pred = model.forward(test_x)\n",
    "\n",
    "    # All relevant settings for using CIQ.\n",
    "    #   ciq_samples(True) - Use CIQ for sampling\n",
    "    #   num_contour_quadrature(10) -- Use 10 quadrature sites (Q in the paper)\n",
    "    #   minres_tolerance -- error tolerance from minres (here, <0.01%).\n",
    "    # print(\"Running with CIQ\")\n",
    "    # with gpytorch.settings.ciq_samples(True), gpytorch.settings.num_contour_quadrature(10), gpytorch.settings.minres_tolerance(1e-4):\n",
    "    #     %time y_samples = observed_pred.rsample()\n",
    "\n",
    "    # print(\"Running with Cholesky\")\n",
    "    # # Make sure we use Cholesky\n",
    "    # with gpytorch.settings.fast_computations(covar_root_decomposition=False):\n",
    "    #     %time y_samples = observed_pred.rsample()\n",
    "\n",
    "    %time y_samples = observed_pred.rsample(torch.Size([31]))"
   ]
  },
  {
   "cell_type": "code",
   "execution_count": 34,
   "id": "44a6f407",
   "metadata": {},
   "outputs": [
    {
     "data": {
      "image/png": "[encoded data removed]",
      "text/plain": [
       "<Figure size 432x288 with 1 Axes>"
      ]
     },
     "metadata": {
      "needs_background": "light"
     },
     "output_type": "display_data"
    }
   ],
   "source": [
    "plt.plot(test_x.detach().cpu(), y_samples[0].squeeze().detach().cpu())\n",
    "plt.xlabel('test_x')\n",
    "plt.ylabel('y_samples')\n",
    "plt.title('Posterior y_samples vs. test_x')\n",
    "plt.show()\n"
   ]
  },
  {
   "cell_type": "code",
   "execution_count": 44,
   "id": "71052d54",
   "metadata": {},
   "outputs": [
    {
     "data": {
      "image/png": "[encoded data removed]",
      "text/plain": [
       "<Figure size 432x288 with 1 Axes>"
      ]
     },
     "metadata": {
      "needs_background": "light"
     },
     "output_type": "display_data"
    }
   ],
   "source": [
    "plt.plot(train_x.cpu(), train_y.cpu())\n",
    "plt.xlabel('test_x')\n",
    "plt.ylabel('y_samples')\n",
    "plt.title('Posterior y_samples vs. test_x')\n",
    "plt.show()"
   ]
  },
  {
   "cell_type": "code",
   "execution_count": 8,
   "id": "8bd7a492",
   "metadata": {},
   "outputs": [
    {
     "data": {
      "text/plain": [
       "(torch.Size([31, 1000, 1]), torch.Size([31, 1000, 1]))"
      ]
     },
     "execution_count": 8,
     "metadata": {},
     "output_type": "execute_result"
    }
   ],
   "source": [
    "y_samples.shape, observed_pred._extended_shape(torch.Size([31]))"
   ]
  },
  {
   "cell_type": "code",
   "execution_count": 9,
   "id": "bbbfd6d3",
   "metadata": {},
   "outputs": [
    {
     "data": {
      "text/plain": [
       "1"
      ]
     },
     "execution_count": 9,
     "metadata": {},
     "output_type": "execute_result"
    }
   ],
   "source": [
    "test_x.dim()"
   ]
  },
  {
   "cell_type": "code",
   "execution_count": 19,
   "id": "5a46b401",
   "metadata": {},
   "outputs": [
    {
     "name": "stdout",
     "output_type": "stream",
     "text": [
      "torch.Size([100, 4])\n",
      "<class 'botorch.posteriors.gpytorch.GPyTorchPosterior'> torch.Size([1, 4, 100, 1])\n"
     ]
    }
   ],
   "source": [
    "from torch.distributions import Uniform, Normal, Independent, Distribution\n",
    "\n",
    "OBSERVATION_NOISE = False\n",
    "METHOD = 1\n",
    "DIMENSION = 4\n",
    "\n",
    "train_X = torch.rand(4, 0, DIMENSION)\n",
    "train_Y = torch.rand(4, 0, 1)\n",
    "# model = SingleTaskGP(train_X, train_Y, likelihood=likelihood, covar_module=kernel)\n",
    "model = SingleTaskGP(train_X, train_Y)\n",
    "\n",
    "# test_x = torch.linspace(-1, 2, test_n)\n",
    "# if torch.cuda.is_available():\n",
    "#     test_x = test_x.cuda()\n",
    "# test_x = test_x.unsqueeze(0).unsqueeze(-1)\n",
    "\n",
    "dimension = 4\n",
    "m = Uniform(torch.zeros(dimension), torch.ones(dimension))\n",
    "xvalue_distribution = Independent(m, 1)\n",
    "\n",
    "test_x = xvalue_distribution.sample(torch.Size([100]))\n",
    "\n",
    "print(test_x.shape)\n",
    "\n",
    "if METHOD == 1: # torch.Size([31, 1, 1000, 1])\n",
    "    # method 1 (BoTorch specific):\n",
    "    prior = model.posterior(test_x, observation_noise=OBSERVATION_NOISE)\n",
    "elif METHOD == 2: # torch.Size([31, 1, 1000])\n",
    "    # method 2 (BoTorch specific):\n",
    "    prior = model.forward(test_x)\n",
    "    if OBSERVATION_NOISE:\n",
    "        prior = model.likelihood(prior)\n",
    "else: # torch.Size([31, 1, 1000])\n",
    "    # method 3 (GPyTorch):\n",
    "    model.eval()\n",
    "    with gpytorch.settings.prior_mode(True):\n",
    "        prior = model(test_x)\n",
    "        if OBSERVATION_NOISE:\n",
    "            prior = model.likelihood(prior)\n",
    "\n",
    "prior_samples = prior.sample(torch.Size([1]))\n",
    "\n",
    "print(type(prior), prior_samples.shape)\n",
    "# print(prior_samples[0])"
   ]
  },
  {
   "cell_type": "code",
   "execution_count": 17,
   "id": "2d93cb7c",
   "metadata": {},
   "outputs": [
    {
     "data": {
      "text/plain": [
       "torch.Size([4, 1000])"
      ]
     },
     "execution_count": 17,
     "metadata": {},
     "output_type": "execute_result"
    }
   ],
   "source": [
    "prior_samples.squeeze().shape"
   ]
  },
  {
   "cell_type": "code",
   "execution_count": 52,
   "id": "fc5f68d4",
   "metadata": {},
   "outputs": [
    {
     "data": {
      "image/png": "[encoded data removed]",
      "text/plain": [
       "<Figure size 432x288 with 1 Axes>"
      ]
     },
     "metadata": {
      "needs_background": "light"
     },
     "output_type": "display_data"
    }
   ],
   "source": [
    "plt.plot(test_x.detach().cpu(), prior_samples[0].squeeze().detach().cpu())\n",
    "plt.xlabel('test_x')\n",
    "plt.ylabel('y_samples')\n",
    "plt.title('Posterior y_samples vs. test_x')\n",
    "plt.show()"
   ]
  },
  {
   "cell_type": "code",
   "execution_count": 140,
   "id": "210050f7",
   "metadata": {},
   "outputs": [
    {
     "data": {
      "text/plain": [
       "[('likelihood.noise_covar.raw_noise',\n",
       "  Parameter containing:\n",
       "  tensor([-3.3713], requires_grad=True)),\n",
       " ('mean_module.raw_constant',\n",
       "  Parameter containing:\n",
       "  tensor(0.0086, requires_grad=True)),\n",
       " ('covar_module.raw_outputscale',\n",
       "  Parameter containing:\n",
       "  tensor(0.2176, requires_grad=True)),\n",
       " ('covar_module.base_kernel.raw_lengthscale',\n",
       "  Parameter containing:\n",
       "  tensor([[-1.1142]], requires_grad=True))]"
      ]
     },
     "execution_count": 140,
     "metadata": {},
     "output_type": "execute_result"
    }
   ],
   "source": [
    "list(model.named_parameters())"
   ]
  },
  {
   "cell_type": "code",
   "execution_count": 21,
   "id": "fb8ab150",
   "metadata": {},
   "outputs": [],
   "source": [
    "# Based on\n",
    "# https://docs.gpytorch.ai/en/stable/_modules/gpytorch/module.html#Module.initialize\n",
    "def get_param_value(module, name):\n",
    "    if \".\" in name:\n",
    "        submodule, name = module._get_module_and_name(name)\n",
    "        if isinstance(submodule, torch.nn.ModuleList):\n",
    "            idx, name = name.split(\".\", 1)\n",
    "            return get_param_value(submodule[int(idx)], name)\n",
    "        else:\n",
    "            return get_param_value(submodule, name)\n",
    "    elif not hasattr(module, name):\n",
    "        raise AttributeError(\"Unknown parameter {p} for {c}\".format(p=name, c=module.__class__.__name__))\n",
    "    elif name not in module._parameters and name not in module._buffers:\n",
    "        return getattr(module, name)\n",
    "    else:\n",
    "        return module.__getattr__(name)"
   ]
  },
  {
   "cell_type": "code",
   "execution_count": 52,
   "id": "e9065c09",
   "metadata": {},
   "outputs": [
    {
     "name": "stderr",
     "output_type": "stream",
     "text": [
      "/Users/aloja/opt/anaconda3/lib/python3.9/site-packages/botorch/models/utils/assorted.py:194: UserWarning: std(): degrees of freedom is <= 0. Correction should be strictly less than the reduction factor (input numel divided by output numel). (Triggered internally at /Users/runner/work/_temp/anaconda/conda-bld/pytorch_1708025540001/work/aten/src/ATen/native/ReduceOps.cpp:1760.)\n",
      "  Ymean, Ystd = torch.mean(Y, dim=-2), torch.std(Y, dim=-2)\n"
     ]
    },
    {
     "name": "stdout",
     "output_type": "stream",
     "text": [
      "Before sample from prior\n",
      "likelihood.noise_covar.raw_noise Parameter containing:\n",
      "tensor([[2.0000]], requires_grad=True)\n",
      "mean_module.raw_constant Parameter containing:\n",
      "tensor([0.], requires_grad=True)\n",
      "covar_module.raw_outputscale Parameter containing:\n",
      "tensor([0.], requires_grad=True)\n",
      "covar_module.base_kernel.raw_lengthscale Parameter containing:\n",
      "tensor([[[0., 0., 0., 0., 0.]]], requires_grad=True)\n",
      "outputscale: tensor([0.6931], grad_fn=<SoftplusBackward0>)\n",
      "lengthscale: tensor([[[0.6931, 0.6931, 0.6931, 0.6931, 0.6931]]],\n",
      "       grad_fn=<SoftplusBackward0>)\n",
      "\n",
      "After sample from prior\n",
      "\n",
      "likelihood.noise_covar.raw_noise\n",
      "tensor([[32.0134]])\n",
      "\n",
      "mean_module.raw_constant\n",
      "Parameter containing:\n",
      "tensor([0.], requires_grad=True)\n",
      "\n",
      "covar_module.raw_outputscale\n",
      "tensor([6.7164])\n",
      "\n",
      "covar_module.base_kernel.raw_lengthscale\n",
      "tensor([[[-0.1403, -1.8673, -1.5420,  0.1838,  0.7615]]])\n",
      "\n"
     ]
    }
   ],
   "source": [
    "## Test sampling from prior\n",
    "from gpytorch.priors.torch_priors import GammaPrior, UniformPrior, LogNormalPrior\n",
    "from gpytorch.kernels import RBFKernel, ScaleKernel, MaternKernel\n",
    "from botorch.models.utils.gpytorch_modules import get_matern_kernel_with_gamma_prior, get_gaussian_likelihood_with_gamma_prior\n",
    "\n",
    "DIMENSION = 5\n",
    "BATCHSIZE = 1\n",
    "\n",
    "train_X = torch.empty(BATCHSIZE, 0, DIMENSION) # (nbatch, ndatapoints, dimension)\n",
    "train_Y = torch.empty(BATCHSIZE, 0, 1)         # (nbatch, ndatapoints, noutputs)\n",
    "\n",
    "# Let's just use the default covar and priors for covar and likelihood for now\n",
    "# They are given in get_matern_kernel_with_gamma_prior and get_gaussian_likelihood_with_gamma_prior\n",
    "# https://github.com/pytorch/botorch/blob/main/botorch/models/utils/gpytorch_modules.py\n",
    "# https://botorch.org/api/_modules/botorch/models/gp_regression.html#SingleTaskGP\n",
    "model = SingleTaskGP(train_X, train_Y)\n",
    "\n",
    "\n",
    "# # We will use the simplest form of GP model, exact inference\n",
    "# class ExactGPModel(gpytorch.models.ExactGP):\n",
    "#     def __init__(self, train_x, train_y, likelihood):\n",
    "#         super(ExactGPModel, self).__init__(train_x, train_y, likelihood)\n",
    "#         self.mean_module = gpytorch.means.ConstantMean()\n",
    "#         self.covar_module = gpytorch.kernels.ScaleKernel(gpytorch.kernels.RBFKernel())\n",
    "\n",
    "#     def forward(self, x):\n",
    "#         mean_x = self.mean_module(x)\n",
    "#         covar_x = self.covar_module(x)\n",
    "#         return gpytorch.distributions.MultivariateNormal(mean_x, covar_x)\n",
    "\n",
    "# # initialize likelihood and model\n",
    "# likelihood = gpytorch.likelihoods.GaussianLikelihood()\n",
    "# model = ExactGPModel(train_X, train_Y, likelihood)\n",
    "\n",
    "# # https://github.com/cornellius-gp/gpytorch/issues/681\n",
    "# # https://github.com/cornellius-gp/gpytorch/pull/918\n",
    "# # Register normal GPyTorch priors\n",
    "# model.mean_module.register_prior(\"mean_prior\", UniformPrior(-1, 1), \"constant\")\n",
    "# model.covar_module.base_kernel.register_prior(\"lengthscale_prior\", UniformPrior(0.01, 0.2), \"lengthscale\")\n",
    "# model.covar_module.register_prior(\"outputscale_prior\", UniformPrior(1, 2), \"outputscale\")\n",
    "# likelihood.register_prior(\"noise_prior\", LogNormalPrior(-1.5, 0.1), \"noise\")\n",
    "\n",
    "\n",
    "# Currently the parameters are set to their default values, as we can see:\n",
    "print(\"Before sample from prior\")\n",
    "for name, param in model.named_parameters():\n",
    "    print(name, param)\n",
    "print(\"outputscale:\", model.covar_module.outputscale)\n",
    "print(\"lengthscale:\", model.covar_module.base_kernel.lengthscale)\n",
    "\n",
    "\n",
    "# for some reason, after calling pyro_sample_from_prior, the parameters() and named_parameters() return empty !\n",
    "# So let's save them before they go away\n",
    "model_parameters = list(model.named_parameters())\n",
    "\n",
    "# Now let's sample from the prior\n",
    "model = model.pyro_sample_from_prior() # need to set equal\n",
    "\n",
    "print(\"\\nAfter sample from prior\")\n",
    "# print(\"sampled lengthscale:\", model.covar_module.base_kernel.raw_lengthscale) ## OK, IT WORKS!!\n",
    "\n",
    "# print('=====')\n",
    "# for name, param in model._parameters:\n",
    "#     print(param)\n",
    "# print('=====')\n",
    "\n",
    "print()\n",
    "\n",
    "for name, param in model_parameters: \n",
    "    # print(name, param)\n",
    "    print(name)\n",
    "    print(get_param_value(model, name))\n",
    "    print()\n"
   ]
  },
  {
   "cell_type": "code",
   "execution_count": 76,
   "id": "bde816fd",
   "metadata": {},
   "outputs": [
    {
     "data": {
      "text/plain": [
       "torch.Size([3, 8])"
      ]
     },
     "execution_count": 76,
     "metadata": {},
     "output_type": "execute_result"
    }
   ],
   "source": [
    "model._aug_batch_shape"
   ]
  },
  {
   "cell_type": "code",
   "execution_count": 61,
   "id": "728047ee",
   "metadata": {},
   "outputs": [
    {
     "data": {
      "text/plain": [
       "torch.Size([1, 1, 2])"
      ]
     },
     "execution_count": 61,
     "metadata": {},
     "output_type": "execute_result"
    }
   ],
   "source": [
    "model.covar_module.base_kernel.raw_lengthscale.shape"
   ]
  },
  {
   "cell_type": "code",
   "execution_count": 134,
   "id": "cb1368f6",
   "metadata": {},
   "outputs": [
    {
     "name": "stdout",
     "output_type": "stream",
     "text": [
      "3\n",
      "tensor([4])\n"
     ]
    }
   ],
   "source": [
    "a = torch.tensor([1, 2, 3, 4])\n",
    "p = torch.tensor([0.1, 0.1, 0.1, 0.7])\n",
    "n = 1\n",
    "replace = True\n",
    "\n",
    "idx = p.multinomial(num_samples=n, replacement=replace)\n",
    "# idx = torch.multinomial(p, num_samples=n, replacement=True)\n",
    "b = a[idx]\n",
    "\n",
    "print(idx[0].numpy())\n",
    "print(b)"
   ]
  },
  {
   "cell_type": "markdown",
   "id": "b26d50d6",
   "metadata": {},
   "source": []
  },
  {
   "cell_type": "code",
   "execution_count": 101,
   "id": "3d85d1b4",
   "metadata": {},
   "outputs": [
    {
     "data": {
      "text/plain": [
       "tensor([2, 0])"
      ]
     },
     "execution_count": 101,
     "metadata": {},
     "output_type": "execute_result"
    }
   ],
   "source": [
    "idx"
   ]
  },
  {
   "cell_type": "code",
   "execution_count": 139,
   "id": "2a9c5f59",
   "metadata": {},
   "outputs": [
    {
     "ename": "TypeError",
     "evalue": "only integer tensors of a single element can be converted to an index",
     "output_type": "error",
     "traceback": [
      "\u001b[0;31m---------------------------------------------------------------------------\u001b[0m",
      "\u001b[0;31mTypeError\u001b[0m                                 Traceback (most recent call last)",
      "Input \u001b[0;32mIn [139]\u001b[0m, in \u001b[0;36m<cell line: 2>\u001b[0;34m()\u001b[0m\n\u001b[1;32m      1\u001b[0m u \u001b[38;5;241m=\u001b[39m [\u001b[38;5;124m\"\u001b[39m\u001b[38;5;124mfuc\u001b[39m\u001b[38;5;124m\"\u001b[39m,\u001b[38;5;124m\"\u001b[39m\u001b[38;5;124mme\u001b[39m\u001b[38;5;124m\"\u001b[39m]\n\u001b[0;32m----> 2\u001b[0m \u001b[43mu\u001b[49m\u001b[43m[\u001b[49m\u001b[43mtorch\u001b[49m\u001b[38;5;241;43m.\u001b[39;49m\u001b[43mtensor\u001b[49m\u001b[43m(\u001b[49m\u001b[43m[\u001b[49m\u001b[38;5;241;43m0\u001b[39;49m\u001b[43m,\u001b[49m\u001b[38;5;241;43m1\u001b[39;49m\u001b[43m,\u001b[49m\u001b[38;5;241;43m1\u001b[39;49m\u001b[43m,\u001b[49m\u001b[38;5;241;43m0\u001b[39;49m\u001b[43m]\u001b[49m\u001b[43m)\u001b[49m\u001b[43m]\u001b[49m\n",
      "\u001b[0;31mTypeError\u001b[0m: only integer tensors of a single element can be converted to an index"
     ]
    }
   ],
   "source": [
    "u = [\"fuc\",\"me\"]\n",
    "u[torch.tensor([0,1,1,0])]"
   ]
  },
  {
   "cell_type": "code",
   "execution_count": 38,
   "id": "b5bb2b32",
   "metadata": {},
   "outputs": [
    {
     "name": "stderr",
     "output_type": "stream",
     "text": [
      "/Users/aloja/opt/anaconda3/lib/python3.9/site-packages/botorch/models/utils/assorted.py:202: InputDataWarning: Input data is not standardized (mean = tensor([1.2812]), std = tensor([0.3005])). Please consider scaling the input to zero mean and unit variance.\n",
      "  warnings.warn(msg, InputDataWarning)\n"
     ]
    },
    {
     "ename": "RuntimeError",
     "evalue": "Fantasy observations can only be added after making predictions with a model so that all test independent caches exist. Call the model on some data first!",
     "output_type": "error",
     "traceback": [
      "\u001b[0;31m---------------------------------------------------------------------------\u001b[0m",
      "\u001b[0;31mRuntimeError\u001b[0m                              Traceback (most recent call last)",
      "Input \u001b[0;32mIn [38]\u001b[0m, in \u001b[0;36m<cell line: 6>\u001b[0;34m()\u001b[0m\n\u001b[1;32m      4\u001b[0m new_X \u001b[38;5;241m=\u001b[39m torch\u001b[38;5;241m.\u001b[39mrand(\u001b[38;5;241m5\u001b[39m, \u001b[38;5;241m2\u001b[39m)\n\u001b[1;32m      5\u001b[0m new_Y \u001b[38;5;241m=\u001b[39m (torch\u001b[38;5;241m.\u001b[39msin(new_X[:, \u001b[38;5;241m0\u001b[39m]) \u001b[38;5;241m+\u001b[39m torch\u001b[38;5;241m.\u001b[39mcos(new_X[:, \u001b[38;5;241m1\u001b[39m]))\u001b[38;5;241m.\u001b[39munsqueeze(\u001b[38;5;241m1\u001b[39m)\n\u001b[0;32m----> 6\u001b[0m model \u001b[38;5;241m=\u001b[39m \u001b[43mmodel\u001b[49m\u001b[38;5;241;43m.\u001b[39;49m\u001b[43mcondition_on_observations\u001b[49m\u001b[43m(\u001b[49m\u001b[43mX\u001b[49m\u001b[38;5;241;43m=\u001b[39;49m\u001b[43mnew_X\u001b[49m\u001b[43m,\u001b[49m\u001b[43m \u001b[49m\u001b[43mY\u001b[49m\u001b[38;5;241;43m=\u001b[39;49m\u001b[43mnew_Y\u001b[49m\u001b[43m)\u001b[49m\n",
      "File \u001b[0;32m~/opt/anaconda3/lib/python3.9/site-packages/botorch/models/gpytorch.py:493\u001b[0m, in \u001b[0;36mBatchedMultiOutputGPyTorchModel.condition_on_observations\u001b[0;34m(self, X, Y, **kwargs)\u001b[0m\n\u001b[1;32m    491\u001b[0m \u001b[38;5;28;01mif\u001b[39;00m noise \u001b[38;5;129;01mis\u001b[39;00m \u001b[38;5;129;01mnot\u001b[39;00m \u001b[38;5;28;01mNone\u001b[39;00m:\n\u001b[1;32m    492\u001b[0m     kwargs\u001b[38;5;241m.\u001b[39mupdate({\u001b[38;5;124m\"\u001b[39m\u001b[38;5;124mnoise\u001b[39m\u001b[38;5;124m\"\u001b[39m: noise})\n\u001b[0;32m--> 493\u001b[0m fantasy_model \u001b[38;5;241m=\u001b[39m \u001b[38;5;28;43msuper\u001b[39;49m\u001b[43m(\u001b[49m\u001b[43m)\u001b[49m\u001b[38;5;241;43m.\u001b[39;49m\u001b[43mcondition_on_observations\u001b[49m\u001b[43m(\u001b[49m\u001b[43mX\u001b[49m\u001b[38;5;241;43m=\u001b[39;49m\u001b[43minputs\u001b[49m\u001b[43m,\u001b[49m\u001b[43m \u001b[49m\u001b[43mY\u001b[49m\u001b[38;5;241;43m=\u001b[39;49m\u001b[43mtargets\u001b[49m\u001b[43m,\u001b[49m\u001b[43m \u001b[49m\u001b[38;5;241;43m*\u001b[39;49m\u001b[38;5;241;43m*\u001b[39;49m\u001b[43mkwargs\u001b[49m\u001b[43m)\u001b[49m\n\u001b[1;32m    494\u001b[0m fantasy_model\u001b[38;5;241m.\u001b[39m_input_batch_shape \u001b[38;5;241m=\u001b[39m fantasy_model\u001b[38;5;241m.\u001b[39mtrain_targets\u001b[38;5;241m.\u001b[39mshape[\n\u001b[1;32m    495\u001b[0m     : (\u001b[38;5;241m-\u001b[39m\u001b[38;5;241m1\u001b[39m \u001b[38;5;28;01mif\u001b[39;00m \u001b[38;5;28mself\u001b[39m\u001b[38;5;241m.\u001b[39m_num_outputs \u001b[38;5;241m==\u001b[39m \u001b[38;5;241m1\u001b[39m \u001b[38;5;28;01melse\u001b[39;00m \u001b[38;5;241m-\u001b[39m\u001b[38;5;241m2\u001b[39m)\n\u001b[1;32m    496\u001b[0m ]\n\u001b[1;32m    497\u001b[0m \u001b[38;5;28;01mif\u001b[39;00m \u001b[38;5;129;01mnot\u001b[39;00m \u001b[38;5;28mself\u001b[39m\u001b[38;5;241m.\u001b[39m_is_fully_bayesian:\n",
      "File \u001b[0;32m~/opt/anaconda3/lib/python3.9/site-packages/botorch/models/gpytorch.py:247\u001b[0m, in \u001b[0;36mGPyTorchModel.condition_on_observations\u001b[0;34m(self, X, Y, **kwargs)\u001b[0m\n\u001b[1;32m    243\u001b[0m         kwargs\u001b[38;5;241m.\u001b[39mupdate({\u001b[38;5;124m\"\u001b[39m\u001b[38;5;124mnoise\u001b[39m\u001b[38;5;124m\"\u001b[39m: Yvar\u001b[38;5;241m.\u001b[39msqueeze(\u001b[38;5;241m-\u001b[39m\u001b[38;5;241m1\u001b[39m)})\n\u001b[1;32m    244\u001b[0m \u001b[38;5;66;03m# get_fantasy_model will properly copy any existing outcome transforms\u001b[39;00m\n\u001b[1;32m    245\u001b[0m \u001b[38;5;66;03m# (since it deepcopies the original model)\u001b[39;00m\n\u001b[0;32m--> 247\u001b[0m \u001b[38;5;28;01mreturn\u001b[39;00m \u001b[38;5;28;43mself\u001b[39;49m\u001b[38;5;241;43m.\u001b[39;49m\u001b[43mget_fantasy_model\u001b[49m\u001b[43m(\u001b[49m\u001b[43minputs\u001b[49m\u001b[38;5;241;43m=\u001b[39;49m\u001b[43mX\u001b[49m\u001b[43m,\u001b[49m\u001b[43m \u001b[49m\u001b[43mtargets\u001b[49m\u001b[38;5;241;43m=\u001b[39;49m\u001b[43mY\u001b[49m\u001b[43m,\u001b[49m\u001b[43m \u001b[49m\u001b[38;5;241;43m*\u001b[39;49m\u001b[38;5;241;43m*\u001b[39;49m\u001b[43mkwargs\u001b[49m\u001b[43m)\u001b[49m\n",
      "File \u001b[0;32m~/opt/anaconda3/lib/python3.9/site-packages/gpytorch/models/exact_gp.py:158\u001b[0m, in \u001b[0;36mExactGP.get_fantasy_model\u001b[0;34m(self, inputs, targets, **kwargs)\u001b[0m\n\u001b[1;32m    139\u001b[0m \u001b[38;5;124;03m\"\"\"\u001b[39;00m\n\u001b[1;32m    140\u001b[0m \u001b[38;5;124;03mReturns a new GP model that incorporates the specified inputs and targets as new training data.\u001b[39;00m\n\u001b[1;32m    141\u001b[0m \n\u001b[0;32m   (...)\u001b[0m\n\u001b[1;32m    155\u001b[0m \u001b[38;5;124;03m:rtype: ~gpytorch.models.ExactGP\u001b[39;00m\n\u001b[1;32m    156\u001b[0m \u001b[38;5;124;03m\"\"\"\u001b[39;00m\n\u001b[1;32m    157\u001b[0m \u001b[38;5;28;01mif\u001b[39;00m \u001b[38;5;28mself\u001b[39m\u001b[38;5;241m.\u001b[39mprediction_strategy \u001b[38;5;129;01mis\u001b[39;00m \u001b[38;5;28;01mNone\u001b[39;00m:\n\u001b[0;32m--> 158\u001b[0m     \u001b[38;5;28;01mraise\u001b[39;00m \u001b[38;5;167;01mRuntimeError\u001b[39;00m(\n\u001b[1;32m    159\u001b[0m         \u001b[38;5;124m\"\u001b[39m\u001b[38;5;124mFantasy observations can only be added after making predictions with a model so that \u001b[39m\u001b[38;5;124m\"\u001b[39m\n\u001b[1;32m    160\u001b[0m         \u001b[38;5;124m\"\u001b[39m\u001b[38;5;124mall test independent caches exist. Call the model on some data first!\u001b[39m\u001b[38;5;124m\"\u001b[39m\n\u001b[1;32m    161\u001b[0m     )\n\u001b[1;32m    163\u001b[0m model_batch_shape \u001b[38;5;241m=\u001b[39m \u001b[38;5;28mself\u001b[39m\u001b[38;5;241m.\u001b[39mtrain_inputs[\u001b[38;5;241m0\u001b[39m]\u001b[38;5;241m.\u001b[39mshape[:\u001b[38;5;241m-\u001b[39m\u001b[38;5;241m2\u001b[39m]\n\u001b[1;32m    165\u001b[0m \u001b[38;5;28;01mif\u001b[39;00m \u001b[38;5;129;01mnot\u001b[39;00m \u001b[38;5;28misinstance\u001b[39m(inputs, \u001b[38;5;28mlist\u001b[39m):\n",
      "\u001b[0;31mRuntimeError\u001b[0m: Fantasy observations can only be added after making predictions with a model so that all test independent caches exist. Call the model on some data first!"
     ]
    }
   ],
   "source": [
    "train_X = torch.rand(20, 2)\n",
    "train_Y = (torch.sin(train_X[:, 0]) + torch.cos(train_X[:, 1])).unsqueeze(1)\n",
    "model = SingleTaskGP(train_X, train_Y)\n",
    "new_X = torch.rand(5, 2)\n",
    "new_Y = (torch.sin(new_X[:, 0]) + torch.cos(new_X[:, 1])).unsqueeze(1)\n",
    "model = model.condition_on_observations(X=new_X, Y=new_Y)"
   ]
  },
  {
   "cell_type": "code",
   "execution_count": 4,
   "id": "be40bf97",
   "metadata": {},
   "outputs": [
    {
     "name": "stderr",
     "output_type": "stream",
     "text": [
      "/Users/aloja/opt/anaconda3/lib/python3.9/site-packages/botorch/models/utils/assorted.py:202: InputDataWarning: Input data is not standardized (mean = tensor([0.7084]), std = tensor([0.2545])). Please consider scaling the input to zero mean and unit variance.\n",
      "  warnings.warn(msg, InputDataWarning)\n"
     ]
    }
   ],
   "source": [
    "train_X = torch.rand(20, 2)\n",
    "train_Y = torch.cat(\n",
    "    [torch.sin(train_X[:, 0]), torch.cos(train_X[:, 1])], -1\n",
    ").unsqueeze(1)\n",
    "model = SingleTaskGP(train_X, train_Y)\n",
    "new_X = torch.rand(5, 2)\n",
    "new_Y = torch.cat([torch.sin(new_X[:, 0]), torch.cos(new_X[:, 1])], -1).unsqueeze(1)\n",
    "# model = model.condition_on_observations(X=new_X, Y=new_Y)\n",
    "model.set_train_data(new_X, new_Y, strict=False)"
   ]
  },
  {
   "cell_type": "code",
   "execution_count": 31,
   "id": "823a6fd3",
   "metadata": {},
   "outputs": [
    {
     "data": {
      "text/plain": [
       "torch.Size([40])"
      ]
     },
     "execution_count": 31,
     "metadata": {},
     "output_type": "execute_result"
    }
   ],
   "source": [
    "train_X = torch.rand(20, 2)\n",
    "train_Y = torch.cat(\n",
    "    [torch.sin(train_X[:, 0]), torch.cos(train_X[:, 1])], -1\n",
    ")\n",
    "\n",
    "train_Y.shape"
   ]
  },
  {
   "cell_type": "code",
   "execution_count": 45,
   "id": "d38f12aa",
   "metadata": {},
   "outputs": [
    {
     "name": "stdout",
     "output_type": "stream",
     "text": [
      "Before sample from prior\n",
      "likelihood.noise_covar.raw_noise Parameter containing:\n",
      "tensor([2.0000], requires_grad=True)\n",
      "mean_module.raw_constant Parameter containing:\n",
      "tensor(0., requires_grad=True)\n",
      "covar_module.raw_outputscale Parameter containing:\n",
      "tensor(0., requires_grad=True)\n",
      "covar_module.base_kernel.raw_lengthscale Parameter containing:\n",
      "tensor([[0., 0.]], requires_grad=True)\n",
      "\n",
      "After sample from prior\n",
      "mean_module.raw_constant Parameter containing:\n",
      "tensor(0., requires_grad=True)\n",
      "Parameters are missing!\n",
      "sampled lengthscale: tensor([[ 0.4932, -0.4163]])\n"
     ]
    },
    {
     "name": "stderr",
     "output_type": "stream",
     "text": [
      "/Users/aloja/opt/anaconda3/lib/python3.9/site-packages/botorch/models/utils/assorted.py:202: InputDataWarning: Input data is not standardized (mean = tensor([0.6874]), std = tensor([0.2618])). Please consider scaling the input to zero mean and unit variance.\n",
      "  warnings.warn(msg, InputDataWarning)\n"
     ]
    }
   ],
   "source": [
    "from botorch.models.gp_regression import SingleTaskGP\n",
    "train_X = torch.rand(20, 2)\n",
    "train_Y = torch.cat(\n",
    "    [torch.sin(train_X[:, 0]), torch.cos(train_X[:, 1])], -1).unsqueeze(1)\n",
    "model = SingleTaskGP(train_X, train_Y)\n",
    "\n",
    "print(\"Before sample from prior\")\n",
    "for name, param in model.named_parameters():\n",
    "    print(name, param)\n",
    "\n",
    "model = model.pyro_sample_from_prior()\n",
    "\n",
    "print(\"\\nAfter sample from prior\")\n",
    "for name, param in model.named_parameters():\n",
    "    print(name, param)\n",
    "\n",
    "print(\"Parameters are missing!\")\n",
    "print(\"sampled lengthscale:\", model.covar_module.base_kernel.raw_lengthscale)"
   ]
  },
  {
   "cell_type": "code",
   "execution_count": 22,
   "id": "b7cb6720",
   "metadata": {},
   "outputs": [
    {
     "data": {
      "image/png": "[encoded data removed]",
      "text/plain": [
       "<Figure size 288x216 with 1 Axes>"
      ]
     },
     "metadata": {
      "needs_background": "light"
     },
     "output_type": "display_data"
    }
   ],
   "source": [
    "class ExactGPModel(gpytorch.models.ExactGP):\n",
    "    def __init__(self, train_x, train_y, likelihood):\n",
    "        super(ExactGPModel, self).__init__(train_x, train_y, likelihood)\n",
    "        self.mean_module = gpytorch.means.ConstantMean()\n",
    "        self.covar_module = gpytorch.kernels.ScaleKernel(gpytorch.kernels.RBFKernel())\n",
    "\n",
    "    def forward(self, x):\n",
    "        mean_x = self.mean_module(x)\n",
    "        covar_x = self.covar_module(x)\n",
    "        return gpytorch.distributions.MultivariateNormal(mean_x, covar_x)\n",
    "\n",
    "train_X = torch.rand(200)\n",
    "# train_Y = torch.cat([torch.sin(train_X[:, 0]), torch.cos(train_X[:, 1])], -1)\n",
    "train_Y = torch.sin(train_X)\n",
    "model = ExactGPModel(train_X, train_Y, gpytorch.likelihoods.GaussianLikelihood())\n",
    "new_X = torch.rand(5)\n",
    "# new_Y = torch.cat([torch.sin(new_X[:, 0]), torch.cos(new_X[:, 1])], -1)\n",
    "new_Y = torch.sin(new_X)\n",
    "\n",
    "# RESET DATA\n",
    "model.set_train_data(new_X, new_Y, strict=False)\n",
    "train_X = new_X\n",
    "train_Y = new_Y\n",
    "\n",
    "\n",
    "mll = ExactMarginalLogLikelihood(model.likelihood, model)\n",
    "fit_gpytorch_mll(mll)\n",
    "\n",
    "with torch.no_grad(), gpytorch.settings.fast_pred_var():\n",
    "    test_X = torch.linspace(0, 1, 51)\n",
    "    observed_pred = model.likelihood(model(test_X))\n",
    "\n",
    "with torch.no_grad():\n",
    "    # Initialize plot\n",
    "    f, ax = plt.subplots(1, 1, figsize=(4, 3))\n",
    "\n",
    "    # Get upper and lower confidence bounds\n",
    "    lower, upper = observed_pred.confidence_region()\n",
    "    # Plot training data as black stars\n",
    "    # ax.plot(train_X.squeeze().numpy(), train_Y.squeeze().numpy(), 'k*')\n",
    "    # Plot predictive means as blue line\n",
    "    ax.plot(test_X.numpy(), observed_pred.mean.numpy(), 'b')\n",
    "    # Shade between the lower and upper confidence bounds\n",
    "    ax.fill_between(test_X.numpy(), lower.numpy(), upper.numpy(), alpha=0.5)\n",
    "    ax.set_ylim([-3, 3])\n",
    "    ax.legend(['Observed Data', 'Mean', 'Confidence'])"
   ]
  },
  {
   "cell_type": "code",
   "execution_count": 51,
   "id": "ff4af343",
   "metadata": {},
   "outputs": [
    {
     "data": {
      "image/png": "[encoded data removed]",
      "text/plain": [
       "<Figure size 288x216 with 1 Axes>"
      ]
     },
     "metadata": {
      "needs_background": "light"
     },
     "output_type": "display_data"
    }
   ],
   "source": [
    "# We will use the simplest form of GP model, exact inference\n",
    "class ExactGPModel(gpytorch.models.ExactGP):\n",
    "    def __init__(self, train_x, train_y, likelihood):\n",
    "        super(ExactGPModel, self).__init__(train_x, train_y, likelihood)\n",
    "        self.mean_module = gpytorch.means.ConstantMean()\n",
    "        self.covar_module = gpytorch.kernels.ScaleKernel(gpytorch.kernels.RBFKernel())\n",
    "\n",
    "    def forward(self, x):\n",
    "        mean_x = self.mean_module(x)\n",
    "        covar_x = self.covar_module(x)\n",
    "        return gpytorch.distributions.MultivariateNormal(mean_x, covar_x)\n",
    "\n",
    "# initialize likelihood and model\n",
    "likelihood = gpytorch.likelihoods.GaussianLikelihood()\n",
    "model = ExactGPModel(None, None, likelihood)\n",
    "model.eval()\n",
    "\n",
    "with torch.no_grad(), gpytorch.settings.fast_pred_var():\n",
    "    test_x = torch.linspace(0, 1, 51)\n",
    "    observed_pred = likelihood(model(test_x))\n",
    "\n",
    "with torch.no_grad():\n",
    "    # Initialize plot\n",
    "    f, ax = plt.subplots(1, 1, figsize=(4, 3))\n",
    "\n",
    "    # Get upper and lower confidence bounds\n",
    "    lower, upper = observed_pred.confidence_region()\n",
    "    # Plot training data as black stars\n",
    "    # ax.plot(train_x.numpy(), train_y.numpy(), 'k*')\n",
    "    # Plot predictive means as blue line\n",
    "    ax.plot(test_x.numpy(), observed_pred.mean.numpy(), 'b')\n",
    "    # Shade between the lower and upper confidence bounds\n",
    "    ax.fill_between(test_x.numpy(), lower.numpy(), upper.numpy(), alpha=0.5)\n",
    "    ax.set_ylim([-3, 3])\n",
    "    ax.legend(['Observed Data', 'Mean', 'Confidence'])"
   ]
  },
  {
   "cell_type": "code",
   "execution_count": null,
   "id": "2c93a3d4",
   "metadata": {},
   "outputs": [],
   "source": []
  }
 ],
 "metadata": {
  "kernelspec": {
   "display_name": "Python 3 (ipykernel)",
   "language": "python",
   "name": "python3"
  },
  "language_info": {
   "codemirror_mode": {
    "name": "ipython",
    "version": 3
   },
   "file_extension": ".py",
   "mimetype": "text/x-python",
   "name": "python",
   "nbconvert_exporter": "python",
   "pygments_lexer": "ipython3",
   "version": "3.9.12"
  }
 },
 "nbformat": 4,
 "nbformat_minor": 5
}
